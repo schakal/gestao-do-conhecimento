{
  "cells": [
    {
      "metadata": {},
      "cell_type": "markdown",
      "source": "DISCIPLINA: Gestão do Conhecimento\t PROFESSOR(A): Alex Salgado\nPERÍODO: 7o. TURNO: noite AVALIAÇÃO:\n\nALUNO(A): _\n\nGRAU: VISTO DO PROFESSOR:\n"
    },
    {
      "metadata": {},
      "cell_type": "markdown",
      "source": "# Questão 1 - valor (1,0)\n"
    },
    {
      "metadata": {},
      "cell_type": "markdown",
      "source": "*** Crie um repositório no Github e adicione este arquivo no mesmo\n\n\n1.1 - Você deve escolher uma base de dados aberta que seja possível treinar um modelo de aprendizagem de máquina Supervisionado de Classificação (assim como o exemplo da Iris e Cancer). A partir desta base de dados, você vai treinar o modelo, fazer previsões e calcular a acurácia do mesmo.\nObs.: Não utilizar nenhuma base de dados usada em aula ou nos trabalhos.\nAs bases de dados não poderá ser igual a do seu colega, dessa forma, preencha a planilha abaixo dizendo a sua base e seu tema. \nhttps://forms.gle/CvmN5fr4u2g5zoZRA\n\n\n** Para saber se já escolheram o mesmo que você, consulte no link abaixo.\nhttps://docs.google.com/spreadsheets/d/1E_GuH7C8vn_o-gyOeN5LavoQlByjVQb1UiVfP71OX3g/edit?usp=sharing\n"
    },
    {
      "metadata": {
        "trusted": false
      },
      "cell_type": "code",
      "source": "",
      "execution_count": null,
      "outputs": []
    },
    {
      "metadata": {},
      "cell_type": "markdown",
      "source": "1.2 - Após tratada, criar uma pasta no seu GoogleDrive e disponibilizar o link do arquivo de sua base (csv, xlsx, etc) para ser importado no seu código."
    },
    {
      "metadata": {
        "trusted": true
      },
      "cell_type": "code",
      "source": "",
      "execution_count": null,
      "outputs": []
    },
    {
      "metadata": {},
      "cell_type": "markdown",
      "source": "## Criar um código usando o Jupyter Notebook e responder (através de código) às seguintes questões:\n"
    },
    {
      "metadata": {},
      "cell_type": "markdown",
      "source": "# Questão 2 - valor (1,0)"
    },
    {
      "metadata": {},
      "cell_type": "markdown",
      "source": "2.1 - Importar os modulos python para machine learn e carregar o arquivo \n\n** Sugestão se for do tipo xlsx, usar o read_excel do pandas\nimport pandas as pd\ndt = pd.read_excel(\"meuarquivo.xlsx\")\n"
    },
    {
      "metadata": {
        "trusted": true
      },
      "cell_type": "code",
      "source": "from sklearn.datasets import fetch_california_housing\ndata = fetch_california_housing()\nimport pandas as pd\ndf = pd.DataFrame(data.data, columns=data.feature_names)\n",
      "execution_count": 99,
      "outputs": []
    },
    {
      "metadata": {},
      "cell_type": "markdown",
      "source": "2.2 - Exibir os primeiros registros desta tabela.\n"
    },
    {
      "metadata": {
        "trusted": true
      },
      "cell_type": "code",
      "source": "print(data.keys())",
      "execution_count": 100,
      "outputs": [
        {
          "output_type": "stream",
          "text": "dict_keys(['DESCR', 'feature_names', 'data', 'target'])\n",
          "name": "stdout"
        }
      ]
    },
    {
      "metadata": {
        "trusted": true
      },
      "cell_type": "code",
      "source": "df.head()",
      "execution_count": 101,
      "outputs": [
        {
          "output_type": "execute_result",
          "execution_count": 101,
          "data": {
            "text/plain": "   MedInc  HouseAge  AveRooms  AveBedrms  Population  AveOccup  Latitude  \\\n0  8.3252      41.0  6.984127   1.023810       322.0  2.555556     37.88   \n1  8.3014      21.0  6.238137   0.971880      2401.0  2.109842     37.86   \n2  7.2574      52.0  8.288136   1.073446       496.0  2.802260     37.85   \n3  5.6431      52.0  5.817352   1.073059       558.0  2.547945     37.85   \n4  3.8462      52.0  6.281853   1.081081       565.0  2.181467     37.85   \n\n   Longitude  \n0    -122.23  \n1    -122.22  \n2    -122.24  \n3    -122.25  \n4    -122.25  ",
            "text/html": "<div>\n<table border=\"1\" class=\"dataframe\">\n  <thead>\n    <tr style=\"text-align: right;\">\n      <th></th>\n      <th>MedInc</th>\n      <th>HouseAge</th>\n      <th>AveRooms</th>\n      <th>AveBedrms</th>\n      <th>Population</th>\n      <th>AveOccup</th>\n      <th>Latitude</th>\n      <th>Longitude</th>\n    </tr>\n  </thead>\n  <tbody>\n    <tr>\n      <th>0</th>\n      <td>8.3252</td>\n      <td>41.0</td>\n      <td>6.984127</td>\n      <td>1.023810</td>\n      <td>322.0</td>\n      <td>2.555556</td>\n      <td>37.88</td>\n      <td>-122.23</td>\n    </tr>\n    <tr>\n      <th>1</th>\n      <td>8.3014</td>\n      <td>21.0</td>\n      <td>6.238137</td>\n      <td>0.971880</td>\n      <td>2401.0</td>\n      <td>2.109842</td>\n      <td>37.86</td>\n      <td>-122.22</td>\n    </tr>\n    <tr>\n      <th>2</th>\n      <td>7.2574</td>\n      <td>52.0</td>\n      <td>8.288136</td>\n      <td>1.073446</td>\n      <td>496.0</td>\n      <td>2.802260</td>\n      <td>37.85</td>\n      <td>-122.24</td>\n    </tr>\n    <tr>\n      <th>3</th>\n      <td>5.6431</td>\n      <td>52.0</td>\n      <td>5.817352</td>\n      <td>1.073059</td>\n      <td>558.0</td>\n      <td>2.547945</td>\n      <td>37.85</td>\n      <td>-122.25</td>\n    </tr>\n    <tr>\n      <th>4</th>\n      <td>3.8462</td>\n      <td>52.0</td>\n      <td>6.281853</td>\n      <td>1.081081</td>\n      <td>565.0</td>\n      <td>2.181467</td>\n      <td>37.85</td>\n      <td>-122.25</td>\n    </tr>\n  </tbody>\n</table>\n</div>"
          },
          "metadata": {}
        }
      ]
    },
    {
      "metadata": {},
      "cell_type": "markdown",
      "source": "2.3 - De que se trata esse banco de dados? e que tipo de previsão pode ser feito com ele?\n"
    },
    {
      "metadata": {
        "trusted": false
      },
      "cell_type": "markdown",
      "source": "Dados gerais sobre moradias da California, como ano das casas, quantidade de quartos e etc"
    },
    {
      "metadata": {},
      "cell_type": "markdown",
      "source": "# Questão 3 - valor (0,5)\n"
    },
    {
      "metadata": {},
      "cell_type": "markdown",
      "source": "Utilizando as terminologias de Machine Learning(features e observações):\n\n"
    },
    {
      "metadata": {},
      "cell_type": "markdown",
      "source": "3.1 - Quantas \"features\" têm nessa base de dados?"
    },
    {
      "metadata": {
        "trusted": true
      },
      "cell_type": "code",
      "source": "print(len(data.feature_names))",
      "execution_count": 102,
      "outputs": [
        {
          "output_type": "stream",
          "text": "8\n",
          "name": "stdout"
        }
      ]
    },
    {
      "metadata": {},
      "cell_type": "markdown",
      "source": "3.2 - Quantas observações têm nessa base de dados?\n"
    },
    {
      "metadata": {
        "trusted": true
      },
      "cell_type": "code",
      "source": "print(data.data.shape)",
      "execution_count": 103,
      "outputs": [
        {
          "output_type": "stream",
          "text": "(20640, 8)\n",
          "name": "stdout"
        }
      ]
    },
    {
      "metadata": {},
      "cell_type": "markdown",
      "source": "# Questão 4 - valor (1,5)\n"
    },
    {
      "metadata": {},
      "cell_type": "markdown",
      "source": "4.1 - Faça uma previsão, usando o algoritmo de LogisticRegression.\n"
    },
    {
      "metadata": {
        "trusted": true
      },
      "cell_type": "code",
      "source": "from sklearn import metrics",
      "execution_count": 104,
      "outputs": []
    },
    {
      "metadata": {
        "trusted": true
      },
      "cell_type": "code",
      "source": "from sklearn.datasets import load_digits\ndigits = load_digits()\nx = data.data\ny = data.target.astype('int')",
      "execution_count": 105,
      "outputs": []
    },
    {
      "metadata": {
        "trusted": true
      },
      "cell_type": "code",
      "source": "print(x)",
      "execution_count": 106,
      "outputs": [
        {
          "output_type": "stream",
          "text": "[[   8.3252       41.            6.98412698 ...    2.55555556\n    37.88       -122.23      ]\n [   8.3014       21.            6.23813708 ...    2.10984183\n    37.86       -122.22      ]\n [   7.2574       52.            8.28813559 ...    2.80225989\n    37.85       -122.24      ]\n ...\n [   1.7          17.            5.20554273 ...    2.3256351\n    39.43       -121.22      ]\n [   1.8672       18.            5.32951289 ...    2.12320917\n    39.43       -121.32      ]\n [   2.3886       16.            5.25471698 ...    2.61698113\n    39.37       -121.24      ]]\n",
          "name": "stdout"
        }
      ]
    },
    {
      "metadata": {
        "trusted": true
      },
      "cell_type": "code",
      "source": "print(y)",
      "execution_count": 107,
      "outputs": [
        {
          "output_type": "stream",
          "text": "[4 3 3 ... 0 0 0]\n",
          "name": "stdout"
        }
      ]
    },
    {
      "metadata": {
        "trusted": true
      },
      "cell_type": "code",
      "source": "from sklearn.model_selection import train_test_split\nx_train, x_test, y_train, y_test = train_test_split(digits.data, digits.target, test_size=0.25, random_state=0)",
      "execution_count": 108,
      "outputs": []
    },
    {
      "metadata": {
        "trusted": true
      },
      "cell_type": "code",
      "source": "from sklearn.linear_model import LogisticRegression",
      "execution_count": 109,
      "outputs": []
    },
    {
      "metadata": {
        "trusted": true
      },
      "cell_type": "code",
      "source": "logreg = LogisticRegression()\nlogreg.fit(x, y)\ny_pred = logreg.predict(x)\n",
      "execution_count": 110,
      "outputs": []
    },
    {
      "metadata": {
        "trusted": true
      },
      "cell_type": "code",
      "source": "print(metrics.accuracy_score(y, y_pred))",
      "execution_count": 111,
      "outputs": [
        {
          "output_type": "stream",
          "text": "0.5094476744186046\n",
          "name": "stdout"
        }
      ]
    },
    {
      "metadata": {
        "trusted": true
      },
      "cell_type": "code",
      "source": "logreg.fit(x_train, y_train)",
      "execution_count": 112,
      "outputs": [
        {
          "output_type": "execute_result",
          "execution_count": 112,
          "data": {
            "text/plain": "LogisticRegression(C=1.0, class_weight=None, dual=False, fit_intercept=True,\n          intercept_scaling=1, max_iter=100, multi_class='ovr', n_jobs=1,\n          penalty='l2', random_state=None, solver='liblinear', tol=0.0001,\n          verbose=0, warm_start=False)"
          },
          "metadata": {}
        }
      ]
    },
    {
      "metadata": {
        "trusted": true
      },
      "cell_type": "code",
      "source": "logreg.predict(x_test[0].reshape(1,-1))\nlogreg.predict(x_test[0:10])\npredictions = logreg.predict(x_test)",
      "execution_count": 113,
      "outputs": []
    },
    {
      "metadata": {
        "trusted": true
      },
      "cell_type": "code",
      "source": "logreg.predict(x_test)",
      "execution_count": 114,
      "outputs": [
        {
          "output_type": "execute_result",
          "execution_count": 114,
          "data": {
            "text/plain": "array([2, 8, 2, 6, 6, 7, 1, 9, 8, 5, 2, 8, 6, 6, 6, 6, 1, 0, 5, 8, 8, 7,\n       8, 4, 7, 5, 4, 9, 2, 9, 4, 7, 6, 8, 9, 4, 3, 8, 0, 1, 8, 6, 7, 7,\n       1, 0, 7, 6, 2, 1, 9, 6, 7, 9, 0, 0, 5, 1, 6, 3, 0, 2, 3, 4, 1, 9,\n       2, 6, 9, 1, 8, 3, 5, 1, 2, 8, 2, 2, 9, 7, 2, 3, 6, 0, 5, 3, 7, 5,\n       1, 2, 9, 9, 3, 1, 4, 7, 4, 8, 5, 8, 5, 5, 2, 5, 9, 0, 7, 1, 4, 1,\n       3, 4, 8, 9, 7, 9, 8, 2, 6, 5, 2, 5, 8, 4, 1, 7, 0, 6, 1, 5, 5, 9,\n       9, 5, 9, 9, 5, 7, 5, 6, 2, 8, 6, 9, 6, 1, 5, 1, 5, 9, 9, 1, 5, 3,\n       6, 1, 8, 9, 8, 7, 6, 7, 6, 5, 6, 0, 8, 8, 9, 8, 6, 1, 0, 4, 1, 6,\n       3, 8, 6, 7, 4, 1, 6, 3, 0, 3, 3, 3, 0, 7, 7, 5, 7, 8, 0, 7, 1, 9,\n       6, 4, 5, 0, 1, 4, 6, 4, 3, 3, 0, 9, 5, 3, 2, 1, 4, 2, 1, 6, 9, 9,\n       2, 4, 9, 3, 7, 6, 2, 3, 3, 1, 6, 9, 3, 6, 3, 3, 2, 0, 7, 6, 1, 1,\n       9, 7, 2, 7, 8, 5, 5, 7, 5, 3, 3, 7, 2, 7, 5, 5, 7, 0, 9, 1, 6, 5,\n       9, 7, 4, 3, 8, 0, 3, 6, 4, 6, 3, 2, 6, 8, 8, 8, 4, 6, 7, 5, 2, 4,\n       5, 3, 2, 4, 6, 9, 4, 5, 4, 3, 4, 6, 2, 9, 0, 6, 7, 2, 0, 9, 6, 0,\n       4, 2, 0, 7, 8, 8, 5, 4, 8, 2, 8, 4, 3, 7, 2, 6, 9, 1, 5, 1, 0, 8,\n       2, 8, 9, 5, 6, 2, 2, 7, 2, 1, 5, 1, 6, 4, 5, 0, 9, 4, 1, 1, 7, 0,\n       8, 9, 0, 5, 4, 3, 8, 8, 6, 5, 3, 4, 4, 4, 8, 8, 7, 0, 9, 6, 3, 5,\n       2, 3, 0, 8, 2, 3, 1, 3, 3, 0, 0, 4, 6, 0, 7, 7, 6, 2, 0, 4, 4, 2,\n       3, 7, 1, 9, 8, 6, 8, 5, 6, 2, 2, 3, 1, 7, 7, 8, 0, 9, 3, 2, 6, 5,\n       5, 9, 1, 3, 7, 0, 0, 3, 0, 4, 5, 9, 3, 3, 4, 3, 1, 8, 9, 8, 3, 6,\n       3, 1, 6, 2, 1, 7, 5, 5, 1, 9])"
          },
          "metadata": {}
        }
      ]
    },
    {
      "metadata": {},
      "cell_type": "markdown",
      "source": "# Questão 5 - valor (2,0)\n"
    },
    {
      "metadata": {},
      "cell_type": "markdown",
      "source": "Usando o método de avaliação de acurácia (Treinar e testar na base de dados inteira/Train test entire model), Calcular a acurácia de cada um dos 3 métodos abaixo."
    },
    {
      "metadata": {},
      "cell_type": "markdown",
      "source": "4.1 - Acurácia usando o algoritmo de KNN (com 1 vizinho, k=1)\n"
    },
    {
      "metadata": {
        "trusted": true
      },
      "cell_type": "code",
      "source": "from sklearn.neighbors import KNeighborsClassifier",
      "execution_count": 115,
      "outputs": []
    },
    {
      "metadata": {
        "trusted": true
      },
      "cell_type": "code",
      "source": "knn = KNeighborsClassifier(n_neighbors=1)",
      "execution_count": 116,
      "outputs": []
    },
    {
      "metadata": {
        "trusted": true
      },
      "cell_type": "code",
      "source": "knn.fit(x_train, y_train)",
      "execution_count": 117,
      "outputs": [
        {
          "output_type": "execute_result",
          "execution_count": 117,
          "data": {
            "text/plain": "KNeighborsClassifier(algorithm='auto', leaf_size=30, metric='minkowski',\n           metric_params=None, n_jobs=1, n_neighbors=1, p=2,\n           weights='uniform')"
          },
          "metadata": {}
        }
      ]
    },
    {
      "metadata": {
        "trusted": true
      },
      "cell_type": "code",
      "source": "y_pred = knn.predict(x_train)",
      "execution_count": 118,
      "outputs": []
    },
    {
      "metadata": {
        "trusted": true
      },
      "cell_type": "code",
      "source": "from sklearn import metrics\nprint(metrics.accuracy_score(y_train, y_pred))",
      "execution_count": 119,
      "outputs": [
        {
          "output_type": "stream",
          "text": "1.0\n",
          "name": "stdout"
        }
      ]
    },
    {
      "metadata": {},
      "cell_type": "markdown",
      "source": "4.2 - Acurácia usando o algoritmo de KNN (com 5 vizinho, k=5)\n"
    },
    {
      "metadata": {
        "trusted": true
      },
      "cell_type": "code",
      "source": "knn = KNeighborsClassifier(n_neighbors=5)\nknn.fit(x_train, y_train)\ny_pred = knn.predict(x_train)\nprint(metrics.accuracy_score(y_train, y_pred))",
      "execution_count": 120,
      "outputs": [
        {
          "output_type": "stream",
          "text": "0.9910913140311804\n",
          "name": "stdout"
        }
      ]
    },
    {
      "metadata": {},
      "cell_type": "markdown",
      "source": "4.3 - Acurácia usando o algoritmo de LogisticRegression\n"
    },
    {
      "metadata": {
        "trusted": true
      },
      "cell_type": "code",
      "source": "y_pred = logreg.predict(x_test)\nprint(metrics.accuracy_score(y_test, y_pred))",
      "execution_count": 121,
      "outputs": [
        {
          "output_type": "stream",
          "text": "0.9533333333333334\n",
          "name": "stdout"
        }
      ]
    },
    {
      "metadata": {},
      "cell_type": "markdown",
      "source": "4.4 - De acordo com seus resultados anteriores, qual dos 3 métodos é mais eficiente?\n"
    },
    {
      "metadata": {
        "trusted": false
      },
      "cell_type": "markdown",
      "source": "Logistic regression"
    },
    {
      "metadata": {
        "trusted": false
      },
      "cell_type": "markdown",
      "source": "*** Envie o link do seu Github com essa resposta no Classroom\n"
    }
  ],
  "metadata": {
    "kernelspec": {
      "name": "python3",
      "display_name": "Python 3",
      "language": "python"
    },
    "language_info": {
      "mimetype": "text/x-python",
      "nbconvert_exporter": "python",
      "name": "python",
      "pygments_lexer": "ipython3",
      "version": "3.5.4",
      "file_extension": ".py",
      "codemirror_mode": {
        "version": 3,
        "name": "ipython"
      }
    }
  },
  "nbformat": 4,
  "nbformat_minor": 2
}